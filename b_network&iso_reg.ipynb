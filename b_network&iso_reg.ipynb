{
 "cells": [
  {
   "cell_type": "code",
   "execution_count": 2,
   "id": "4aac8763-bac3-49f8-8a79-287d26b7c6ca",
   "metadata": {},
   "outputs": [],
   "source": [
    "import pandas as pd\n",
    "import numpy as np\n",
    "from sklearn.pipeline import Pipeline\n",
    "from sklearn.compose import ColumnTransformer\n",
    "from sklearn.preprocessing import KBinsDiscretizer, OrdinalEncoder, FunctionTransformer\n",
    "from sklearn.impute import SimpleImputer\n",
    "from pgmpy.models import BayesianNetwork\n",
    "from pgmpy.inference import VariableElimination\n",
    "from pgmpy.estimators import MaximumLikelihoodEstimator, BayesianEstimator\n",
    "from sklearn.base import BaseEstimator, TransformerMixin, ClassifierMixin, clone\n",
    "from sklearn.metrics import balanced_accuracy_score\n",
    "from sklearn.model_selection import train_test_split\n",
    "from sklearn.isotonic import IsotonicRegression\n",
    "from sklearn.model_selection import KFold"
   ]
  },
  {
   "cell_type": "code",
   "execution_count": 3,
   "id": "de1062f4-d426-45ab-9bb4-1ae2c9cbeffd",
   "metadata": {},
   "outputs": [],
   "source": [
    "data = pd.read_csv('train.csv')\n",
    "X, y = data.drop('Survived', axis=1), data['Survived']"
   ]
  },
  {
   "cell_type": "code",
   "execution_count": 4,
   "id": "d98b14d8-666c-4f8c-b709-fab53f1a8e94",
   "metadata": {},
   "outputs": [],
   "source": [
    "features_to_keep = ['SibSp', 'Pclass', 'Parch', 'Survived']\n",
    "categorical_features = ['Embarked', 'Sex']\n",
    "binned_features = ['Age', 'Fare']\n",
    "\n",
    "class TicketCountTransformer(BaseEstimator, TransformerMixin):\n",
    "    def fit(self, X, y=None):\n",
    "        return self\n",
    "\n",
    "        \n",
    "    def transform(self, X):\n",
    "        if isinstance(X, pd.DataFrame):\n",
    "            return X.groupby('Ticket')['Ticket'].transform('count').values.reshape(-1, 1)\n",
    "        raise ValueError(\"No dataframe.\")\n",
    "        \n",
    "    def get_feature_names_out(self, input_features=None):\n",
    "        return np.array(['ticket_count'])\n"
   ]
  },
  {
   "cell_type": "code",
   "execution_count": 5,
   "id": "299ab182-f788-4c9d-ac01-465cc2833942",
   "metadata": {},
   "outputs": [],
   "source": [
    "class IsotonicallyCalibratedModel(ClassifierMixin):\n",
    "    def __init__(self, base_estimator=None, cv: int = 5):\n",
    "        if base_estimator is None:\n",
    "            raise ValueError('No base estimator set')\n",
    "        self.cv = cv\n",
    "        self.estimator = base_estimator\n",
    "        self.pipelines = None\n",
    "        self.cutoff = 0.5\n",
    "        \n",
    "    def fit(self, X=None, y=None):\n",
    "        if not isinstance(X, pd.DataFrame): \n",
    "            raise ValueError('Ты недоумок1')\n",
    "        if not isinstance(y, pd.DataFrame):\n",
    "            raise ValueError('Ты недоумок2')\n",
    "        self.classes_ = np.unique(y)\n",
    "\n",
    "        if isinstance(self.cv, int):\n",
    "            folds = KFold(n_splits=self.cv, shuffle=True).split(X, y)\n",
    "        else:\n",
    "            # Предполагаем, что cv - это итерируемый объект с индексами\n",
    "            folds = self.cv\n",
    "            \n",
    "        self.pipelines = []\n",
    "        for train_index, test_index in folds:\n",
    "            estimator = clone(self.estimator)\n",
    "            estimator.fit(X.iloc[train_index], y.iloc[train_index])\n",
    "            \n",
    "            # Получаем вероятности для положительного класса\n",
    "            proba = estimator.predict_proba(X.iloc[test_index])\n",
    "            proba = proba[:, 1]  # Берем вероятности положительного класса\n",
    "            \n",
    "            y_test = np.array(y.iloc[test_index]).reshape((-1, ))\n",
    "            iso_reg = IsotonicRegression(out_of_bounds='clip').fit(proba, y_test)\n",
    "            self.pipelines.append((estimator, iso_reg))\n",
    "        self.is_fitted_ = True\n",
    "        return self\n",
    "\n",
    "    def predict_proba(self, X=None):\n",
    "        preds = []\n",
    "        for estimator, iso_reg in self.pipelines:\n",
    "            proba = estimator.predict_proba(X)\n",
    "            if proba.shape[1] == 2:\n",
    "                proba = proba[:, 1]\n",
    "            else:\n",
    "                proba = proba[:, 0]\n",
    "            pred = iso_reg.transform(proba)\n",
    "            preds.append(pred)\n",
    "            \n",
    "        # Усредняем предсказания по всем пайплайнам\n",
    "        trues = np.mean(preds, axis=0).astype(float)\n",
    "        return (np.vstack([1 - trues, trues])).T\n",
    "    \n",
    "    def predict(self, X=None):\n",
    "        return (self.predict_proba(X)[:, 1] > self.cutoff).astype(int)"
   ]
  },
  {
   "cell_type": "code",
   "execution_count": 10,
   "id": "b9b5af93-bd0a-4a4f-9588-0df1c7fcc818",
   "metadata": {},
   "outputs": [],
   "source": [
    "class BayesianSurvivalClassifier(BaseEstimator, ClassifierMixin):\n",
    "    def __init__(self, features_to_keep=None, categorical_features=None, \n",
    "                 binned_features=None, n_bins=5, network_structure=None):\n",
    "        self.features_to_keep = features_to_keep or ['SibSp', 'Pclass', 'Parch']\n",
    "        self.categorical_features = categorical_features or ['Embarked', 'Sex']\n",
    "        self.binned_features = binned_features or ['Age', 'Fare']\n",
    "        self.n_bins = n_bins\n",
    "        self.network_structure = network_structure or [\n",
    "            ('Pclass', 'Survived'),\n",
    "            ('Sex', 'Survived'),\n",
    "            ('Age', 'Survived'),\n",
    "            ('Fare', 'Survived'),\n",
    "            ('Embarked', 'Survived'),\n",
    "            ('ticket_count', 'Survived'),\n",
    "            ('SibSp', 'Survived'),\n",
    "            ('Parch', 'Survived')\n",
    "        ]\n",
    "        self.preprocessor = self._create_preprocessor()\n",
    "        self.model = None\n",
    "        self.inference = None\n",
    "\n",
    "    def _create_preprocessor(self):\n",
    "            numeric_pipeline = Pipeline([\n",
    "                ('imputer', SimpleImputer(strategy='median'))\n",
    "            ])\n",
    "    \n",
    "            categorical_pipeline = Pipeline([\n",
    "                ('imputer', SimpleImputer(strategy='most_frequent')),\n",
    "                ('encoder', OrdinalEncoder())\n",
    "            ])\n",
    "    \n",
    "            binned_pipeline = Pipeline([\n",
    "                ('imputer', SimpleImputer(strategy='median')),\n",
    "                ('binner', KBinsDiscretizer(n_bins=self.n_bins, encode='ordinal', strategy='uniform'))\n",
    "            ])\n",
    "    \n",
    "            return ColumnTransformer(\n",
    "                transformers=[\n",
    "                    ('binned', binned_pipeline, self.binned_features),\n",
    "                    ('categorical', categorical_pipeline, self.categorical_features),\n",
    "                    ('numeric', numeric_pipeline, self.features_to_keep),\n",
    "                    ('ticket_count', TicketCountTransformer(), ['Ticket'])\n",
    "                ],\n",
    "                remainder='drop',\n",
    "                verbose_feature_names_out=False\n",
    "            )\n",
    "\n",
    "\n",
    "    def fit(self, X, y):\n",
    "        # Преобразуем признаки\n",
    "        X_transformed = self.preprocessor.fit_transform(X)\n",
    "        feature_names = self.preprocessor.get_feature_names_out()\n",
    "        \n",
    "        # Создаём DataFrame с преобразованными признаками\n",
    "        df = pd.DataFrame(X_transformed, columns=feature_names)\n",
    "        df['Survived'] = y.values\n",
    "        \n",
    "        # Инициализируем и обучаем байесовскую сеть\n",
    "        self.model = BayesianNetwork(self.network_structure)\n",
    "        self.model.fit(df, estimator=BayesianEstimator, prior_type=\"dirichlet\", pseudo_counts=3)\n",
    "        \n",
    "        # Инициализируем инструмент для вывода\n",
    "        self.is_fitted_ = True\n",
    "        self.inference = VariableElimination(self.model)\n",
    "        return self\n",
    "\n",
    "        \n",
    "    def predict(self, X):\n",
    "        # Преобразуем признаки\n",
    "        X_transformed = self.preprocessor.transform(X)\n",
    "        feature_names = self.preprocessor.get_feature_names_out()\n",
    "        df = pd.DataFrame(X_transformed, columns=feature_names)\n",
    "        # Выполняем предсказание для каждого образца\n",
    "        predictions = []\n",
    "        for _, row in df.iterrows():\n",
    "            evidence = row.to_dict()\n",
    "            query = self.inference.map_query(variables=['Survived'], evidence=evidence)\n",
    "            predictions.append(query['Survived'])\n",
    "        \n",
    "        return np.array(predictions)\n",
    "\n",
    "    \n",
    "    def predict_proba(self, X):\n",
    "        X_transformed = self.preprocessor.transform(X)\n",
    "        feature_names = self.preprocessor.get_feature_names_out()\n",
    "        df = pd.DataFrame(X_transformed, columns=feature_names)\n",
    "        \n",
    "        probas = []\n",
    "        not_probas = []\n",
    "        for _, row in df.iterrows():\n",
    "            evidence = row.to_dict()\n",
    "            try:\n",
    "                posterior = self.inference.query(variables=['Survived'], evidence=evidence)\n",
    "                probas.append(posterior.values[0])\n",
    "                not_probas.append(posterior.values[1])\n",
    "            except:\n",
    "                probas.append(0)\n",
    "                not_probas.append(1)\n",
    "        return np.vstack([np.array(probas), np.array(not_probas)]).T\n"
   ]
  },
  {
   "cell_type": "code",
   "execution_count": 11,
   "id": "6320eba7-cf8e-4432-8335-30e5edacd0d1",
   "metadata": {},
   "outputs": [],
   "source": [
    "X_train, X_test, y_train, y_test = train_test_split(X, y, test_size=0.2)"
   ]
  },
  {
   "cell_type": "code",
   "execution_count": 12,
   "id": "70162fee-ed59-4801-a416-514fc5476319",
   "metadata": {
    "scrolled": true
   },
   "outputs": [
    {
     "data": {
      "text/plain": [
       "<__main__.IsotonicallyCalibratedModel at 0x17849cd6580>"
      ]
     },
     "execution_count": 12,
     "metadata": {},
     "output_type": "execute_result"
    }
   ],
   "source": [
    "t = IsotonicallyCalibratedModel(base_estimator=BayesianSurvivalClassifier(), cv=5)\n",
    "t.fit(X_train, pd.DataFrame({'Survived':y_train}))"
   ]
  },
  {
   "cell_type": "code",
   "execution_count": null,
   "id": "f7074c6e-70de-4522-bb3e-7266d8d5196e",
   "metadata": {
    "scrolled": true
   },
   "outputs": [
    {
     "data": {
      "text/plain": [
       "0.7827284105131413"
      ]
     },
     "execution_count": 17,
     "metadata": {},
     "output_type": "execute_result"
    }
   ],
   "source": [
    "balanced_accuracy_score(t.predict(X_test), y_test)"
   ]
  },
  {
   "cell_type": "code",
   "execution_count": 16,
   "id": "c095abfd-e2e4-4a3b-ad2d-175ef94dfdf4",
   "metadata": {},
   "outputs": [
    {
     "data": {
      "text/plain": [
       "0.7827284105131413"
      ]
     },
     "execution_count": 16,
     "metadata": {},
     "output_type": "execute_result"
    }
   ],
   "source": []
  },
  {
   "cell_type": "code",
   "execution_count": null,
   "id": "09d77651-0c8a-4b11-bab1-eee90743457d",
   "metadata": {},
   "outputs": [],
   "source": []
  }
 ],
 "metadata": {
  "kernelspec": {
   "display_name": "Python 3 (ipykernel)",
   "language": "python",
   "name": "python3"
  },
  "language_info": {
   "codemirror_mode": {
    "name": "ipython",
    "version": 3
   },
   "file_extension": ".py",
   "mimetype": "text/x-python",
   "name": "python",
   "nbconvert_exporter": "python",
   "pygments_lexer": "ipython3",
   "version": "3.9.13"
  }
 },
 "nbformat": 4,
 "nbformat_minor": 5
}
